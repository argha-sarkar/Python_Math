{
 "cells": [
  {
   "cell_type": "code",
   "execution_count": 1,
   "id": "7e75bd7d",
   "metadata": {},
   "outputs": [],
   "source": [
    "import numpy as np"
   ]
  },
  {
   "cell_type": "code",
   "execution_count": 3,
   "id": "7274e66c",
   "metadata": {},
   "outputs": [
    {
     "name": "stdout",
     "output_type": "stream",
     "text": [
      "[[5 1 3]\n",
      " [2 1 4]]\n"
     ]
    }
   ],
   "source": [
    "vec = np.array([[5,1,3],[2,1,4]])\n",
    "print(vec)"
   ]
  },
  {
   "cell_type": "code",
   "execution_count": 4,
   "id": "a38b73e0",
   "metadata": {},
   "outputs": [],
   "source": [
    "import matplotlib.pyplot as plt"
   ]
  },
  {
   "cell_type": "code",
   "execution_count": 11,
   "id": "bd968d72",
   "metadata": {},
   "outputs": [
    {
     "data": {
      "image/png": "[encoded data removed]",
      "text/plain": [
       "<Figure size 504x504 with 1 Axes>"
      ]
     },
     "metadata": {
      "needs_background": "light"
     },
     "output_type": "display_data"
    }
   ],
   "source": [
    "vec1 = np.array([1,5])\n",
    "vec2 = np.array([4,-2])\n",
    "\n",
    "x_vec1 = vec1[0] #5\n",
    "y_vec1 = vec1[1] #1\n",
    "\n",
    "x_vec2 = vec2[0] #2\n",
    "y_vec2 = vec2[1] #1\n",
    "\n",
    "vec = np.array([[x_vec1,x_vec2],[y_vec1,y_vec2]])\n",
    "\n",
    "origin = np.zeros(vec.shape)\n",
    "\n",
    "\n",
    "plt.figure(figsize=(7,7))\n",
    "plt.quiver(*origin,*vec,color = ['r','g','b'],scale = 1,units='xy')\n",
    "\n",
    "plt.grid()\n",
    "plt.xlim(-10,10)\n",
    "plt.ylim(-10,10)\n",
    "plt.gca()\n",
    "plt.show()"
   ]
  },
  {
   "cell_type": "code",
   "execution_count": null,
   "id": "97d4b10d",
   "metadata": {},
   "outputs": [],
   "source": []
  }
 ],
 "metadata": {
  "kernelspec": {
   "display_name": "Python 3.8.5 64-bit",
   "language": "python",
   "name": "python385jvsc74a57bd031f2aee4e71d21fbe5cf8b01ff0e069b9275f58929596ceb00d14d90e3e16cd6"
  },
  "language_info": {
   "codemirror_mode": {
    "name": "ipython",
    "version": 3
   },
   "file_extension": ".py",
   "mimetype": "text/x-python",
   "name": "python",
   "nbconvert_exporter": "python",
   "pygments_lexer": "ipython3",
   "version": "3.8.10"
  }
 },
 "nbformat": 4,
 "nbformat_minor": 5
}
