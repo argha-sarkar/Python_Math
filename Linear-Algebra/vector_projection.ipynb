{
 "cells": [
  {
   "cell_type": "code",
   "execution_count": 5,
   "id": "29b2a60c",
   "metadata": {},
   "outputs": [],
   "source": [
    "import numpy as np\n",
    "import matplotlib.pyplot as plt"
   ]
  },
  {
   "cell_type": "code",
   "execution_count": 6,
   "id": "258ff34f",
   "metadata": {},
   "outputs": [],
   "source": [
    "a = np.array([2,5,8])\n",
    "b = np.array([1,1,7])\n",
    "\n",
    "b_norm = np.sqrt(b**2)\n",
    "proj = (np.dot(a,b)/b_norm**2)*b"
   ]
  },
  {
   "cell_type": "code",
   "execution_count": 7,
   "id": "ead3a4b5",
   "metadata": {},
   "outputs": [
    {
     "name": "stdout",
     "output_type": "stream",
     "text": [
      "[-61. -58.  -1.]\n"
     ]
    }
   ],
   "source": [
    "print(a-proj)"
   ]
  },
  {
   "cell_type": "code",
   "execution_count": 15,
   "id": "b31ca045",
   "metadata": {},
   "outputs": [
    {
     "data": {
      "image/png": "[encoded data removed]",
      "text/plain": [
       "<Figure size 720x720 with 1 Axes>"
      ]
     },
     "metadata": {
      "needs_background": "light"
     },
     "output_type": "display_data"
    }
   ],
   "source": [
    "a = np.array([2,8])\n",
    "b = np.array([1,7])\n",
    "b_norm = np.sqrt(b**2)\n",
    "proj = (np.dot(a,b)/b_norm**2)*b\n",
    "origin = np.zeros(proj.shape)\n",
    "\n",
    "\n",
    "plt.figure(figsize=(10,10))\n",
    "plt.quiver(*origin,*proj, color = ['r','g','b'],scale = 1,units='xy')\n",
    "plt.grid()\n",
    "plt.xlim(-70,70)\n",
    "plt.ylim(-100,100)\n",
    "plt.gca()\n",
    "plt.show()"
   ]
  },
  {
   "cell_type": "code",
   "execution_count": null,
   "id": "87632ad8",
   "metadata": {},
   "outputs": [],
   "source": [
    "a = np.array([2,5,8])\n",
    "b = np.array([1,1,7])\n",
    "\n",
    "b_norm = np.sqrt(b**2)\n",
    "proj = (np.dot(a,b)/b_norm**2)*b\n",
    "\n",
    "#vec = np.multiply(vec1,vec2)\n",
    "origin = np.zeros(vec.shape)\n",
    "\n",
    "\n",
    "plt.figure(figsize=(10,10))\n",
    "plt.quiver(*origin,*vec,color = ['r','g','b'],scale = 1,units='xy')\n",
    "\n",
    "plt.grid()\n",
    "plt.xlim(-10,10)\n",
    "plt.ylim(-10,10)\n",
    "plt.gca()\n",
    "plt.show()"
   ]
  }
 ],
 "metadata": {
  "kernelspec": {
   "display_name": "Python 3.8.5 64-bit",
   "language": "python",
   "name": "python385jvsc74a57bd031f2aee4e71d21fbe5cf8b01ff0e069b9275f58929596ceb00d14d90e3e16cd6"
  },
  "language_info": {
   "codemirror_mode": {
    "name": "ipython",
    "version": 3
   },
   "file_extension": ".py",
   "mimetype": "text/x-python",
   "name": "python",
   "nbconvert_exporter": "python",
   "pygments_lexer": "ipython3",
   "version": "3.8.10"
  }
 },
 "nbformat": 4,
 "nbformat_minor": 5
}
